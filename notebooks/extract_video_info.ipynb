{
 "cells": [
  {
   "cell_type": "code",
   "execution_count": null,
   "id": "4492beb5",
   "metadata": {},
   "outputs": [],
   "source": [
    "import os\n",
    "import json\n",
    "import requests\n",
    "from dotenv import load_dotenv, find_dotenv\n",
    "\n",
    "load_dotenv(find_dotenv())"
   ]
  },
  {
   "cell_type": "code",
   "execution_count": null,
   "id": "88e656d7",
   "metadata": {},
   "outputs": [],
   "source": [
    "GOOGLE_API_KEY = os.getenv(\"GOOGLE_API_KEY\")\n",
    "GOOGLE_API_URL = os.getenv(\"GOOGLE_API_URL\")"
   ]
  },
  {
   "cell_type": "code",
   "execution_count": null,
   "id": "901b2196",
   "metadata": {},
   "outputs": [],
   "source": [
    "from dataclasses import dataclass, asdict\n",
    "from datetime import datetime\n",
    "\n",
    "\n",
    "@dataclass\n",
    "class Video:\n",
    "    id: str\n",
    "    title: str\n",
    "    url: str\n",
    "    description: str\n",
    "    published_at: datetime\n",
    "\n",
    "\n",
    "@dataclass\n",
    "class Channel:\n",
    "    id: str\n",
    "    name: str\n",
    "    videos: list[Video] = None\n",
    "\n",
    "    def __post_init__(self):\n",
    "        self.videos = []\n",
    "\n",
    "    def add_video(self, video: Video):\n",
    "        self.videos.append(video)"
   ]
  },
  {
   "cell_type": "code",
   "execution_count": null,
   "id": "01716640",
   "metadata": {},
   "outputs": [],
   "source": [
    "channels = [\n",
    "    {\"name\": \"ByteByteGo\", \"id\": \"UCZgt6AzoyjslHTC9dz0UoTw\"},\n",
    "    {\"name\": \"IBM Technology\", \"id\": \"UCKWaEZ-_VweaEx1j62do_vQ\"},\n",
    "    {\"name\": \"Sebastian Rashka\", \"id\": \"UC_CzsS7UTjcxJ-xXp1ftxtA\"},\n",
    "    {\"name\": \"FreeCodeCamp.org\", \"id\": \"UC8butISFwT-Wl7EV0hUK0BQ\"},\n",
    "]\n",
    "\n",
    "channel_list = [Channel(**channel) for channel in channels]"
   ]
  },
  {
   "cell_type": "code",
   "execution_count": null,
   "id": "4e0bbbfe",
   "metadata": {},
   "outputs": [],
   "source": [
    "channel_list"
   ]
  },
  {
   "cell_type": "code",
   "execution_count": null,
   "id": "d34619b1",
   "metadata": {},
   "outputs": [],
   "source": [
    "for channel in channel_list:\n",
    "    skip = False\n",
    "\n",
    "    params = {\n",
    "        \"key\": GOOGLE_API_KEY,\n",
    "        \"channelId\": channel.id,\n",
    "        \"part\": [\"snippet\", \"id\"],\n",
    "        \"order\": \"date\",\n",
    "        \"maxResults\": 50,\n",
    "        \"pageToken\": None,\n",
    "    }\n",
    "\n",
    "    while not skip:\n",
    "        response = requests.get(GOOGLE_API_URL, params=params)\n",
    "        data = response.json()\n",
    "\n",
    "        if \"items\" in data:\n",
    "            for item in data[\"items\"]:\n",
    "                if item[\"id\"][\"kind\"] == \"youtube#video\":\n",
    "                    video_id = item[\"id\"][\"videoId\"]\n",
    "                    video_title = item[\"snippet\"][\"title\"]\n",
    "                    video_description = item[\"snippet\"][\"description\"]\n",
    "                    video_published_at = item[\"snippet\"][\"publishTime\"]\n",
    "                    video_url = f\"https://www.youtube.com/watch?v={video_id}\"\n",
    "\n",
    "                    try:\n",
    "                        video_published_at = datetime.strptime(\n",
    "                            item[\"snippet\"][\"publishTime\"], \"%Y-%m-%dT%H:%M:%SZ\"\n",
    "                        )\n",
    "                    except ValueError:\n",
    "                        video_published_at = None\n",
    "\n",
    "                    video = Video(\n",
    "                        id=video_id,\n",
    "                        title=video_title,\n",
    "                        url=video_url,\n",
    "                        description=video_description,\n",
    "                        published_at=video_published_at,\n",
    "                    )\n",
    "\n",
    "                    channel.add_video(video)\n",
    "\n",
    "        if \"nextPageToken\" not in data:\n",
    "            skip = True\n",
    "        else:\n",
    "            params[\"pageToken\"] = data.get(\"nextPageToken\")"
   ]
  },
  {
   "cell_type": "code",
   "execution_count": null,
   "id": "2ffa28cd",
   "metadata": {},
   "outputs": [],
   "source": [
    "def convert_channels_pandas(channel: Channel):\n",
    "    df = pd.DataFrame.from_dict(channel.videos)\n",
    "    df.loc[:, \"channel\"] = channel.name\n",
    "    df.loc[:, \"channel_id\"] = channel.id\n",
    "    return df"
   ]
  },
  {
   "cell_type": "code",
   "execution_count": null,
   "id": "f522d7aa",
   "metadata": {},
   "outputs": [],
   "source": [
    "data = []\n",
    "\n",
    "for channel in channel_list:\n",
    "    channel_df = convert_channels_pandas(channel)\n",
    "    data.append(channel_df)\n",
    "\n",
    "data = pd.concat(data, ignore_index=True)"
   ]
  },
  {
   "cell_type": "code",
   "execution_count": null,
   "id": "faf9a2f3",
   "metadata": {},
   "outputs": [],
   "source": [
    "data.to_parquet(\"../data/videos-info.parquet\", index=False)"
   ]
  }
 ],
 "metadata": {
  "kernelspec": {
   "display_name": ".venv",
   "language": "python",
   "name": "python3"
  },
  "language_info": {
   "codemirror_mode": {
    "name": "ipython",
    "version": 3
   },
   "file_extension": ".py",
   "mimetype": "text/x-python",
   "name": "python",
   "nbconvert_exporter": "python",
   "pygments_lexer": "ipython3",
   "version": "3.12.10"
  }
 },
 "nbformat": 4,
 "nbformat_minor": 5
}
