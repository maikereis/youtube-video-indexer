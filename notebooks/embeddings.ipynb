{
 "cells": [
  {
   "cell_type": "code",
   "execution_count": null,
   "id": "8ee452df",
   "metadata": {},
   "outputs": [],
   "source": [
    "import pandas as pd\n",
    "from sentence_transformers import SentenceTransformer"
   ]
  },
  {
   "cell_type": "code",
   "execution_count": null,
   "id": "da9e4d07",
   "metadata": {},
   "outputs": [],
   "source": [
    "data = pd.read_parquet(\"../data/transcripts.parquet\", dtype_backend=\"pyarrow\")\n",
    "data = data.fillna(\"\")"
   ]
  },
  {
   "cell_type": "code",
   "execution_count": null,
   "id": "92091406",
   "metadata": {},
   "outputs": [],
   "source": [
    "# Good trade-off between speed and accuracy\n",
    "embedder = SentenceTransformer(\"sentence-transformers/all-MiniLM-L6-v2\")"
   ]
  },
  {
   "cell_type": "code",
   "execution_count": null,
   "id": "d4fb8aa3",
   "metadata": {},
   "outputs": [],
   "source": [
    "text_vector = embedder.encode(\n",
    "    data[\"text\"].tolist(), show_progress_bar=True, batch_size=32\n",
    ")"
   ]
  },
  {
   "cell_type": "code",
   "execution_count": null,
   "id": "4e43f9f0",
   "metadata": {},
   "outputs": [],
   "source": [
    "title_vector = embedder.encode(\n",
    "    data[\"title\"].tolist(), show_progress_bar=True, batch_size=32\n",
    ")"
   ]
  },
  {
   "cell_type": "code",
   "execution_count": null,
   "id": "140e2c6a",
   "metadata": {},
   "outputs": [],
   "source": [
    "data.loc[:, \"text_embedding\"] = pd.DataFrame({\"a\": list(text_vector)})\n",
    "data.loc[:, \"title_embedding\"] = pd.DataFrame({\"b\": list(title_vector)})"
   ]
  },
  {
   "cell_type": "code",
   "execution_count": null,
   "id": "88076090",
   "metadata": {},
   "outputs": [],
   "source": [
    "data.to_parquet(\"../data/transcripts_with_embeddings.parquet\", index=False)"
   ]
  }
 ],
 "metadata": {
  "kernelspec": {
   "display_name": ".venv",
   "language": "python",
   "name": "python3"
  },
  "language_info": {
   "codemirror_mode": {
    "name": "ipython",
    "version": 3
   },
   "file_extension": ".py",
   "mimetype": "text/x-python",
   "name": "python",
   "nbconvert_exporter": "python",
   "pygments_lexer": "ipython3",
   "version": "3.12.10"
  }
 },
 "nbformat": 4,
 "nbformat_minor": 5
}
