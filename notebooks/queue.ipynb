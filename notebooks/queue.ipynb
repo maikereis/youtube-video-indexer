{
 "cells": [
  {
   "cell_type": "code",
   "execution_count": 149,
   "id": "2dc234ea",
   "metadata": {},
   "outputs": [],
   "source": [
    "import os\n",
    "from abc import ABC, abstractmethod\n",
    "from typing import Any\n",
    "\n",
    "QUEUE_DB_HOST = os.getenv(\"QUEUE_DB_HOST\")\n",
    "QUEUE_DB_PORT = os.getenv(\"QUEUE_DB_PORT\")\n",
    "\n",
    "\n",
    "class Queue(ABC):\n",
    "    @abstractmethod\n",
    "    def enqueue(self) -> None:\n",
    "        pass\n",
    "\n",
    "    @abstractmethod\n",
    "    def dequeue(self) -> str:\n",
    "        pass\n",
    "\n",
    "\n",
    "class NotificationQueue(Queue):\n",
    "    def __init__(self, queue_name: str = \"queue\"):\n",
    "        self.client = valkey.Valkey(host=QUEUE_DB_HOST, port=QUEUE_DB_PORT, db=0)\n",
    "        self.queue_name = queue_name\n",
    "\n",
    "    def enqueue(self, task_data: Any) -> None:\n",
    "        self.client.lpush(self.queue_name, task_data)\n",
    "\n",
    "    def dequeue(self, timeout: int = 0.1) -> Any:\n",
    "        result = self.client.brpop(self.queue_name, timeout=timeout)\n",
    "        return result[1] if result else None\n",
    "\n",
    "\n",
    "queue = ValkeyQueue(\"youtube_notifications\")"
   ]
  },
  {
   "cell_type": "code",
   "execution_count": 150,
   "id": "c1bb6071",
   "metadata": {},
   "outputs": [],
   "source": [
    "queue.enqueue(\"aaa\")"
   ]
  },
  {
   "cell_type": "code",
   "execution_count": 151,
   "id": "d3eb77b9",
   "metadata": {},
   "outputs": [
    {
     "data": {
      "text/plain": [
       "'aaa'"
      ]
     },
     "execution_count": 151,
     "metadata": {},
     "output_type": "execute_result"
    }
   ],
   "source": [
    "queue.dequeue().decode()"
   ]
  },
  {
   "cell_type": "code",
   "execution_count": 152,
   "id": "f3183359",
   "metadata": {},
   "outputs": [],
   "source": [
    "queue.enqueue(\"aaa\")\n",
    "queue.enqueue(\"bbb\")"
   ]
  },
  {
   "cell_type": "code",
   "execution_count": 153,
   "id": "e97c45ac",
   "metadata": {},
   "outputs": [
    {
     "data": {
      "text/plain": [
       "'aaa'"
      ]
     },
     "execution_count": 153,
     "metadata": {},
     "output_type": "execute_result"
    }
   ],
   "source": [
    "queue.dequeue().decode()"
   ]
  },
  {
   "cell_type": "code",
   "execution_count": 154,
   "id": "defa0cba",
   "metadata": {},
   "outputs": [
    {
     "data": {
      "text/plain": [
       "'bbb'"
      ]
     },
     "execution_count": 154,
     "metadata": {},
     "output_type": "execute_result"
    }
   ],
   "source": [
    "queue.dequeue().decode()"
   ]
  }
 ],
 "metadata": {
  "kernelspec": {
   "display_name": ".venv",
   "language": "python",
   "name": "python3"
  },
  "language_info": {
   "codemirror_mode": {
    "name": "ipython",
    "version": 3
   },
   "file_extension": ".py",
   "mimetype": "text/x-python",
   "name": "python",
   "nbconvert_exporter": "python",
   "pygments_lexer": "ipython3",
   "version": "3.12.10"
  }
 },
 "nbformat": 4,
 "nbformat_minor": 5
}
