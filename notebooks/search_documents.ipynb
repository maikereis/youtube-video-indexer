{
 "cells": [
  {
   "cell_type": "code",
   "execution_count": 26,
   "id": "3a0a12e3",
   "metadata": {},
   "outputs": [],
   "source": [
    "import pandas as pd\n",
    "from sentence_transformers import SentenceTransformer\n",
    "from sklearn.metrics import DistanceMetric"
   ]
  },
  {
   "cell_type": "code",
   "execution_count": 27,
   "id": "c0ae0b2a",
   "metadata": {},
   "outputs": [],
   "source": [
    "data = pd.read_parquet(\"../data/transcripts_with_embeddings.parquet\")"
   ]
  },
  {
   "cell_type": "code",
   "execution_count": 29,
   "id": "404fbb7c",
   "metadata": {},
   "outputs": [],
   "source": [
    "model = SentenceTransformer(\"all-MiniLM-L6-v2\")"
   ]
  },
  {
   "cell_type": "code",
   "execution_count": 30,
   "id": "32f1066d",
   "metadata": {},
   "outputs": [],
   "source": [
    "empty_string = model.encode(\"\")"
   ]
  },
  {
   "cell_type": "code",
   "execution_count": 68,
   "id": "1cbb8ee0",
   "metadata": {},
   "outputs": [],
   "source": [
    "def search_embeddings(\n",
    "    query: str,\n",
    "    model: SentenceTransformer,\n",
    "    df: pd.DataFrame,\n",
    "    id_column: str,\n",
    "    embedding_column: str,\n",
    "    metric: str = \"euclidean\",\n",
    "    top_k: int = 5,\n",
    ") -> pd.DataFrame:\n",
    "\n",
    "    # Embed the query\n",
    "    query_embedding = model.encode(query).reshape(1, -1)\n",
    "\n",
    "    dist = DistanceMetric.get_metric(metric)\n",
    "\n",
    "    # Calculate cosine similarity\n",
    "    cosine_scores = df[embedding_column].apply(\n",
    "        lambda x: dist.pairwise(query_embedding, x.reshape(1, -1))[0][0]\n",
    "    )\n",
    "\n",
    "    return data.iloc[cosine_scores.nsmallest(5).index][\"id\"]"
   ]
  },
  {
   "cell_type": "code",
   "execution_count": 69,
   "id": "3ce8260e",
   "metadata": {},
   "outputs": [],
   "source": [
    "scores = search_embeddings(\"How to use redis\", model, data, \"id\", \"text_embedding\")"
   ]
  },
  {
   "cell_type": "code",
   "execution_count": 70,
   "id": "da7755a2",
   "metadata": {},
   "outputs": [
    {
     "data": {
      "text/plain": [
       "112    a4yX7RUgTxI\n",
       "592    muqiHwa8UvQ\n",
       "138    5TRFpFBccQM\n",
       "60     41YM-75KYL4\n",
       "50     x8lcdDbKZto\n",
       "Name: id, dtype: string"
      ]
     },
     "execution_count": 70,
     "metadata": {},
     "output_type": "execute_result"
    }
   ],
   "source": [
    "scores"
   ]
  }
 ],
 "metadata": {
  "kernelspec": {
   "display_name": ".venv",
   "language": "python",
   "name": "python3"
  },
  "language_info": {
   "codemirror_mode": {
    "name": "ipython",
    "version": 3
   },
   "file_extension": ".py",
   "mimetype": "text/x-python",
   "name": "python",
   "nbconvert_exporter": "python",
   "pygments_lexer": "ipython3",
   "version": "3.12.10"
  }
 },
 "nbformat": 4,
 "nbformat_minor": 5
}
