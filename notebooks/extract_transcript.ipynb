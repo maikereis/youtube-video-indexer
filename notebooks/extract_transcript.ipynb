{
 "cells": [
  {
   "cell_type": "code",
   "execution_count": null,
   "id": "23abcbdb",
   "metadata": {},
   "outputs": [],
   "source": [
    "import time\n",
    "import pandas as pd\n",
    "from dataclasses import dataclass\n",
    "\n",
    "from xml.parsers.expat import ExpatError\n",
    "\n",
    "from youtube_transcript_api import YouTubeTranscriptApi as YTTranscriptApi\n",
    "from youtube_transcript_api._errors import NoTranscriptFound\n",
    "\n",
    "data = pd.read_parquet(\"../data/videos-info.parquet\")"
   ]
  },
  {
   "cell_type": "code",
   "execution_count": null,
   "id": "5213d843",
   "metadata": {},
   "outputs": [],
   "source": [
    "@dataclass\n",
    "class Transcript:\n",
    "    id: str\n",
    "    text: str"
   ]
  },
  {
   "cell_type": "code",
   "execution_count": null,
   "id": "838084ba",
   "metadata": {},
   "outputs": [],
   "source": [
    "transcripts = []\n",
    "\n",
    "for row in data[[\"id\"]].itertuples(index=False):\n",
    "    time.sleep(0.5)  # Avoid hitting the API too fast\n",
    "    try:\n",
    "        transcript = YTTranscriptApi.get_transcript(row.id, languages=[\"en\", \"en-US\"])\n",
    "        full_transcript = \" \".join([piece[\"text\"] for piece in transcript])\n",
    "        transcripts.append(Transcript(row.id, full_transcript))\n",
    "    except NoTranscriptFound as e:\n",
    "        print(f\"No transcript found for {row.id}: {e}\")\n",
    "    except TypeError as e:\n",
    "        print(f\"TypeError for {row.id}: {e}\")\n",
    "    except ExpatError as e:\n",
    "        print(f\"ExpatError for {row.id}: {e}\")\n",
    "    except Exception as e:\n",
    "        print(f\"Unexpected error for {row.id}: {e}\")\n",
    "        continue"
   ]
  },
  {
   "cell_type": "code",
   "execution_count": null,
   "id": "a7b11932",
   "metadata": {},
   "outputs": [],
   "source": [
    "transcript = YTTranscriptApi.get_transcript(\"PkZNo7MFNFg\")"
   ]
  },
  {
   "cell_type": "code",
   "execution_count": null,
   "id": "f3f8b784",
   "metadata": {},
   "outputs": [],
   "source": [
    "pd.DataFrame(transcripts).to_parquet(\n",
    "    \"../data/transcripts.parquet\",\n",
    "    index=False,\n",
    "    engine=\"pyarrow\",\n",
    "    compression=\"snappy\",\n",
    ")"
   ]
  }
 ],
 "metadata": {
  "kernelspec": {
   "display_name": ".venv",
   "language": "python",
   "name": "python3"
  },
  "language_info": {
   "codemirror_mode": {
    "name": "ipython",
    "version": 3
   },
   "file_extension": ".py",
   "mimetype": "text/x-python",
   "name": "python",
   "nbconvert_exporter": "python",
   "pygments_lexer": "ipython3",
   "version": "3.12.10"
  }
 },
 "nbformat": 4,
 "nbformat_minor": 5
}
