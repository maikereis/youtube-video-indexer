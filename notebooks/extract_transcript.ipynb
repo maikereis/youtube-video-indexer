{
 "cells": [
  {
   "cell_type": "code",
   "execution_count": null,
   "id": "23abcbdb",
   "metadata": {},
   "outputs": [],
   "source": [
    "import time\n",
    "import pandas as pd\n",
    "from dataclasses import dataclass\n",
    "\n",
    "from xml.parsers.expat import ExpatError\n",
    "\n",
    "from youtube_transcript_api import YouTubeTranscriptApi as YTTranscriptApi\n",
    "from youtube_transcript_api._errors import NoTranscriptFound"
   ]
  },
  {
   "cell_type": "code",
   "execution_count": null,
   "id": "f3831c7f",
   "metadata": {},
   "outputs": [],
   "source": [
    "data = pd.read_parquet(\"../data/videos-info.parquet\")"
   ]
  },
  {
   "cell_type": "code",
   "execution_count": null,
   "id": "5213d843",
   "metadata": {},
   "outputs": [],
   "source": [
    "@dataclass\n",
    "class Transcript:\n",
    "    id: str\n",
    "    text: str"
   ]
  },
  {
   "cell_type": "code",
   "execution_count": null,
   "id": "9f8a8420",
   "metadata": {},
   "outputs": [],
   "source": [
    "def extract_video_transcript(video_id: str, languages: list = [\"en\", \"en-US\"]) -> str:\n",
    "    try:\n",
    "        transcript = YTTranscriptApi.get_transcript(video_id, languages=languages)\n",
    "        text = \" \".join([t[\"text\"] for t in transcript])\n",
    "        return text\n",
    "    except NoTranscriptFound as e:\n",
    "        print(f\"No transcript found for {video_id}: {e}\")\n",
    "    except TypeError as e:\n",
    "        print(f\"TypeError for {video_id}: {e}\")\n",
    "    except ExpatError as e:\n",
    "        print(f\"ExpatError for {video_id}: {e}\")\n",
    "    except Exception as e:\n",
    "        print(f\"Unexpected error for {video_id}: {e}\")\n",
    "        pass\n",
    "    return None"
   ]
  },
  {
   "cell_type": "code",
   "execution_count": null,
   "id": "838084ba",
   "metadata": {},
   "outputs": [],
   "source": [
    "transcripts = []\n",
    "\n",
    "for row in data[[\"id\"]].itertuples(index=False):\n",
    "    transcript = extract_transcript_text(row.id)\n",
    "    transcripts.append(Transcript(row.id, transcript))"
   ]
  },
  {
   "cell_type": "code",
   "execution_count": null,
   "id": "f3f8b784",
   "metadata": {},
   "outputs": [],
   "source": [
    "pd.DataFrame(transcripts).to_parquet(\n",
    "    \"../data/transcripts.parquet\",\n",
    "    index=False,\n",
    "    engine=\"pyarrow\",\n",
    "    compression=\"snappy\",\n",
    ")"
   ]
  }
 ],
 "metadata": {
  "kernelspec": {
   "display_name": ".venv",
   "language": "python",
   "name": "python3"
  },
  "language_info": {
   "codemirror_mode": {
    "name": "ipython",
    "version": 3
   },
   "file_extension": ".py",
   "mimetype": "text/x-python",
   "name": "python",
   "nbconvert_exporter": "python",
   "pygments_lexer": "ipython3",
   "version": "3.12.10"
  }
 },
 "nbformat": 4,
 "nbformat_minor": 5
}
