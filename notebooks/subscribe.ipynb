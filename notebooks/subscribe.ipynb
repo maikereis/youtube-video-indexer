{
 "cells": [
  {
   "cell_type": "code",
   "execution_count": 31,
   "id": "bc7420f8",
   "metadata": {},
   "outputs": [],
   "source": [
    "import requests\n",
    "import os\n",
    "from dotenv import load_dotenv, find_dotenv"
   ]
  },
  {
   "cell_type": "code",
   "execution_count": 33,
   "id": "5420e28b",
   "metadata": {},
   "outputs": [
    {
     "data": {
      "text/plain": [
       "True"
      ]
     },
     "execution_count": 33,
     "metadata": {},
     "output_type": "execute_result"
    }
   ],
   "source": [
    "load_dotenv(find_dotenv())"
   ]
  },
  {
   "cell_type": "code",
   "execution_count": 34,
   "id": "1c01c6cf",
   "metadata": {},
   "outputs": [],
   "source": [
    "NGROK_CALLBACK_URL = os.getenv(\"NGROK_CALLBACK_URL\")\n",
    "HUB_URL = \"https://pubsubhubbub.appspot.com/subscribe\""
   ]
  },
  {
   "cell_type": "code",
   "execution_count": 56,
   "id": "df6b6490",
   "metadata": {},
   "outputs": [],
   "source": [
    "channels = [\n",
    "    {\"name\": \"ByteByteGo\", \"id\": \"UCZgt6AzoyjslHTC9dz0UoTw\"},\n",
    "    {\"name\": \"IBM Technology\", \"id\": \"UCKWaEZ-_VweaEx1j62do_vQ\"},\n",
    "    {\"name\": \"Sebastian Rashka\", \"id\": \"UC_CzsS7UTjcxJ-xXp1ftxtA\"},\n",
    "    {\"name\": \"FreeCodeCamp.org\", \"id\": \"UC8butISFwT-Wl7EV0hUK0BQ\"},\n",
    "    {\"name\": \"suspicious.joblib\", \"id\": \"UC9DuzJTFrLCna-DRLV8sZwg\"},\n",
    "]"
   ]
  },
  {
   "cell_type": "code",
   "execution_count": 58,
   "id": "c4462311",
   "metadata": {},
   "outputs": [
    {
     "name": "stdout",
     "output_type": "stream",
     "text": [
      "Successfully subscribed to ByteByteGo (id: UCZgt6AzoyjslHTC9dz0UoTw)\n",
      "Successfully subscribed to IBM Technology (id: UCKWaEZ-_VweaEx1j62do_vQ)\n",
      "Successfully subscribed to Sebastian Rashka (id: UC_CzsS7UTjcxJ-xXp1ftxtA)\n",
      "Successfully subscribed to FreeCodeCamp.org (id: UC8butISFwT-Wl7EV0hUK0BQ)\n",
      "Successfully subscribed to suspicious.joblib (id: UC9DuzJTFrLCna-DRLV8sZwg)\n"
     ]
    }
   ],
   "source": [
    "for channel in channels:\n",
    "    channel_name = channel[\"name\"]\n",
    "    channel_id = channel[\"id\"]\n",
    "    topic_url = \"https://www.youtube.com/xml/feeds/videos.xml?channel_id=\" + channel_id\n",
    "\n",
    "    data = {\n",
    "        \"hub.mode\": \"subscribe\",\n",
    "        \"hub.topic\": topic_url,\n",
    "        \"hub.callback\": NGROK_CALLBACK_URL,\n",
    "        \"hub.verify\": \"async\",\n",
    "    }\n",
    "\n",
    "    response = requests.post(HUB_URL, data=data)\n",
    "\n",
    "    if response.status_code == 202:\n",
    "        print(f\"Successfully subscribed to {channel_name} (id: {channel_id})\")\n",
    "    else:\n",
    "        print(f\"Failed to subscribe to {channel_name} (id: {channel_id})\")"
   ]
  }
 ],
 "metadata": {
  "kernelspec": {
   "display_name": ".venv",
   "language": "python",
   "name": "python3"
  },
  "language_info": {
   "codemirror_mode": {
    "name": "ipython",
    "version": 3
   },
   "file_extension": ".py",
   "mimetype": "text/x-python",
   "name": "python",
   "nbconvert_exporter": "python",
   "pygments_lexer": "ipython3",
   "version": "3.12.10"
  }
 },
 "nbformat": 4,
 "nbformat_minor": 5
}
